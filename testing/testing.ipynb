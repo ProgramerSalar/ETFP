{
 "cells": [
  {
   "cell_type": "code",
   "execution_count": 1,
   "id": "77593983",
   "metadata": {},
   "outputs": [
    {
     "name": "stdout",
     "output_type": "stream",
     "text": [
      "/bin/bash: line 1: docquery: command not found\n"
     ]
    }
   ],
   "source": [
    "!docquery scan \"What is the invoice number?\" https://templates.invoicehome.com/invoice-template-us-neat-750px.png"
   ]
  },
  {
   "cell_type": "code",
   "execution_count": 2,
   "id": "d9e81834",
   "metadata": {},
   "outputs": [
    {
     "name": "stderr",
     "output_type": "stream",
     "text": [
      "/home/manish/anaconda3/envs/cuda121/lib/python3.10/site-packages/tqdm/auto.py:21: TqdmWarning: IProgress not found. Please update jupyter and ipywidgets. See https://ipywidgets.readthedocs.io/en/stable/user_install.html\n",
      "  from .autonotebook import tqdm as notebook_tqdm\n",
      "/home/manish/anaconda3/envs/cuda121/lib/python3.10/site-packages/transformers/models/auto/modeling_auto.py:2199: FutureWarning: The class `AutoModelForVision2Seq` is deprecated and will be removed in v5.0. Please use `AutoModelForImageTextToText` instead.\n",
      "  warnings.warn(\n",
      "Using a slow image processor as `use_fast` is unset and a slow processor was saved with this model. `use_fast=True` will be the default behavior in v4.52, even if the model was saved with a slow processor. This will result in minor differences in outputs. You'll still be able to use a slow processor with `use_fast=False`.\n",
      "Device set to use cpu\n"
     ]
    }
   ],
   "source": [
    "# Use a pipeline as a high-level helper\n",
    "from transformers import pipeline\n",
    "\n",
    "pipe = pipeline(\"image-to-text\", model=\"mychen76/invoice-and-receipts_donut_v1\")"
   ]
  },
  {
   "cell_type": "code",
   "execution_count": null,
   "id": "ad6cc657",
   "metadata": {},
   "outputs": [],
   "source": [
    "# Use a pipeline as a high-level helper\n",
    "from transformers import pipeline, AutoProcessor, AutoModelForTokenClassification, AutoTokenizer\n",
    "\n",
    "pipe = pipeline(\"token-classification\", model=\"Theivaprakasham/layoutlmv3-finetuned-invoice\")\n",
    "processor = AutoProcessor.from_pretrained(\"Theivaprakasham/layoutlmv3-finetuned-invoice\")\n",
    "model = AutoModelForTokenClassification.from_pretrained(\"Theivaprakasham/layoutlmv3-finetuned-invoice\")"
   ]
  }
 ],
 "metadata": {
  "kernelspec": {
   "display_name": "cuda121",
   "language": "python",
   "name": "python3"
  },
  "language_info": {
   "codemirror_mode": {
    "name": "ipython",
    "version": 3
   },
   "file_extension": ".py",
   "mimetype": "text/x-python",
   "name": "python",
   "nbconvert_exporter": "python",
   "pygments_lexer": "ipython3",
   "version": "3.10.16"
  }
 },
 "nbformat": 4,
 "nbformat_minor": 5
}
